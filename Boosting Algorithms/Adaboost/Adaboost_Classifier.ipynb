{
 "cells": [
  {
   "cell_type": "code",
   "execution_count": 80,
   "metadata": {},
   "outputs": [],
   "source": [
    "import numpy as np\n",
    "\n",
    "class DecisionStump:\n",
    "\n",
    "    def __init__(self):\n",
    "        self.polarity = 1\n",
    "        self.threshold = None\n",
    "        self.alpha = None\n",
    "        self.feature = None\n",
    "\n",
    "    def predict(self, X):\n",
    "\n",
    "        n_sample, n_feature = X.shape\n",
    "        X_column = X[:,self.feature]\n",
    "\n",
    "        predictions = np.ones(n_sample)\n",
    "\n",
    "        if self.polarity == 1:\n",
    "            predictions[X_column < self.threshold] = -1\n",
    "        else:\n",
    "            predictions[X_column > self.threshold] = -1\n",
    "\n",
    "        return predictions\n",
    "\n",
    "class AdaboostClassifier:\n",
    "\n",
    "    def __init__(self, n_estimators = 5, learning_rate = 1.0):\n",
    "        self.n_estimators = n_estimators\n",
    "        self.learning_rate = learning_rate\n",
    "\n",
    "\n",
    "    def fit(self, X_train, y_train):\n",
    "\n",
    "        n_sample, n_feature = X_train.shape\n",
    "\n",
    "        # Initialize weights\n",
    "        weights = [1 / n_sample for i in range(n_sample)]\n",
    "\n",
    "        iteration = 0\n",
    "\n",
    "        # Fit weak learners\n",
    "        self._estimators = []\n",
    "        self._estimator_errors = []\n",
    "\n",
    "        for _ in range(self.n_estimators):\n",
    "\n",
    "            stump = DecisionStump()\n",
    "            min_error = float('inf')\n",
    "            for feature in range(n_feature):\n",
    "                X_column = X_train[:, feature]\n",
    "                thresholds = np.unique(X_column)\n",
    "\n",
    "                for threshold in thresholds:\n",
    "                    polarity = 1\n",
    "                    predictions = np.ones(n_sample)\n",
    "                    predictions[X_column < threshold] = -1\n",
    "\n",
    "                    # Calculate the error\n",
    "                    error = np.dot(np.array(weights),np.array([predictions != y_train]).T)\n",
    "\n",
    "                    if error > 0.5:\n",
    "                        polarity = -1\n",
    "                        error = 1 - error\n",
    "\n",
    "                    if error < min_error:\n",
    "                        min_error = error\n",
    "                        stump.polarity = polarity\n",
    "                        stump.threshold = threshold\n",
    "                        stump.feature = feature\n",
    "\n",
    "            self._estimator_errors.append(min_error)\n",
    "\n",
    "            # Amount of say\n",
    "            EPS = 1e-10\n",
    "            stump.alpha = np.log((1-min_error - EPS)/(min_error+EPS))\n",
    "            self._estimators.append(stump)\n",
    "            predictions = stump.predict(X_train)\n",
    "\n",
    "            # update weight\n",
    "            weights *= np.exp(-0.5*y_train*stump.alpha*predictions)\n",
    "            weights /= sum(weights)\n",
    "\n",
    "    def predict(self, X_test):\n",
    "        # combine all stumps with their amount of say\n",
    "        estimator_preds = [estimator.alpha * estimator.predict(X_test) for estimator in self._estimators]\n",
    "        base_learner = np.sum(estimator_preds,axis=0)\n",
    "        pred = np.sign(base_learner)\n",
    "\n",
    "        return pred\n"
   ]
  },
  {
   "cell_type": "code",
   "execution_count": 90,
   "metadata": {},
   "outputs": [],
   "source": [
    "from sklearn.datasets import load_iris\n",
    "from sklearn.model_selection import train_test_split\n",
    "data = load_iris()"
   ]
  },
  {
   "cell_type": "code",
   "execution_count": 91,
   "metadata": {},
   "outputs": [],
   "source": [
    "data.target[data.target==0]=-1\n",
    "data.target[data.target==2]=1\n",
    "X_train,X_test,y_train,y_test = train_test_split(data.data,data.target,test_size=0.33,random_state=101)\n",
    "ad = AdaboostClassifier()\n",
    "ad.fit(X_train,y_train)\n",
    "y_pred = ad.predict(X_test)"
   ]
  },
  {
   "cell_type": "code",
   "execution_count": 92,
   "metadata": {},
   "outputs": [
    {
     "data": {
      "text/plain": [
       "array([[15,  0],\n",
       "       [ 1, 34]])"
      ]
     },
     "execution_count": 92,
     "metadata": {},
     "output_type": "execute_result"
    }
   ],
   "source": [
    "from sklearn.metrics import confusion_matrix\n",
    "confusion_matrix(y_test,y_pred)"
   ]
  },
  {
   "cell_type": "code",
   "execution_count": null,
   "metadata": {},
   "outputs": [],
   "source": []
  }
 ],
 "metadata": {
  "kernelspec": {
   "display_name": "Python 3",
   "language": "python",
   "name": "python3"
  },
  "language_info": {
   "codemirror_mode": {
    "name": "ipython",
    "version": 3
   },
   "file_extension": ".py",
   "mimetype": "text/x-python",
   "name": "python",
   "nbconvert_exporter": "python",
   "pygments_lexer": "ipython3",
   "version": "3.7.7"
  }
 },
 "nbformat": 4,
 "nbformat_minor": 4
}
