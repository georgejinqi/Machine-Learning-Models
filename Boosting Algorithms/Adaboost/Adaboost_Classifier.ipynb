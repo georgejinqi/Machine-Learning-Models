{
 "cells": [
  {
   "cell_type": "code",
   "execution_count": 199,
   "metadata": {},
   "outputs": [],
   "source": [
    "import numpy as np\n",
    "\n",
    "class DecisionStump:\n",
    "\n",
    "    def __init__(self):\n",
    "        self.polarity = 1\n",
    "        self.threshold = None\n",
    "        self.alpha = None\n",
    "        self.feature = None\n",
    "\n",
    "    def predict(self, X):\n",
    "\n",
    "        n_sample, n_feature = X.shape\n",
    "        X_column = X[:,self.feature]\n",
    "\n",
    "        predictions = np.ones(n_sample)\n",
    "\n",
    "        if self.polarity == 1:\n",
    "            predictions[X_column < self.threshold] = -1\n",
    "        else:\n",
    "            predictions[X_column > self.threshold] = -1\n",
    "\n",
    "        return predictions\n",
    "\n",
    "class AdaboostClassifier:\n",
    "\n",
    "    def __init__(self, n_estimators = 5, learning_rate = 1.0):\n",
    "        self.n_estimators = n_estimators\n",
    "        self.learning_rate = learning_rate\n",
    "\n",
    "\n",
    "    def fit(self, X_train, y_train):\n",
    "\n",
    "        n_sample, n_feature = X_train.shape\n",
    "\n",
    "        # Initialize weights\n",
    "        weights = [1 / n_sample for i in range(n_sample)]\n",
    "\n",
    "        iteration = 0\n",
    "\n",
    "        # Fit weak learners\n",
    "        self._estimators = []\n",
    "        self._estimator_errors = []\n",
    "\n",
    "        for _ in range(self.n_estimators):\n",
    "\n",
    "            stump = DecisionStump()\n",
    "            min_error = float('inf')\n",
    "            for feature in range(n_feature):\n",
    "                X_column = X_train[:, feature]\n",
    "                thresholds = np.unique(X_column)\n",
    "\n",
    "                for threshold in thresholds:\n",
    "                    polarity = 1\n",
    "                    predictions = np.ones(n_sample)\n",
    "                    predictions[X_column < threshold] = -1\n",
    "\n",
    "                    # Calculate the error\n",
    "                    error = np.dot(np.array(weights),np.array([predictions != y_train]).T)\n",
    "\n",
    "                    if error > 0.5:\n",
    "                        polarity = -1\n",
    "                        error = 1 - error\n",
    "\n",
    "                    if error < min_error:\n",
    "                        min_error = error\n",
    "                        stump.polarity = polarity\n",
    "                        stump.threshold = threshold\n",
    "                        stump.feature = feature\n",
    "\n",
    "            self._estimator_errors.append(min_error)\n",
    "\n",
    "            # Amount of say\n",
    "            EPS = 1e-10\n",
    "            stump.alpha = np.log((1-min_error - EPS)/(min_error+EPS))\n",
    "            self._estimators.append(stump)\n",
    "            predictions = stump.predict(X_train)\n",
    "\n",
    "            # update weight\n",
    "            weights *= np.exp(-0.5*y_train*stump.alpha*predictions)\n",
    "            weights /= sum(weights)\n",
    "\n",
    "    def predict(self, X_test):\n",
    "        \n",
    "        # combine all stumps with their amount of say\n",
    "        estimator_preds = [self.learning_rate * estimator.alpha * estimator.predict(X_test) for estimator in self._estimators]\n",
    "        base_learner = np.sum(estimator_preds,axis=0)\n",
    "        pred = np.sign(base_learner)\n",
    "\n",
    "        return pred\n"
   ]
  },
  {
   "cell_type": "code",
   "execution_count": 200,
   "metadata": {},
   "outputs": [],
   "source": [
    "from sklearn.datasets import load_iris\n",
    "from sklearn.model_selection import train_test_split\n",
    "data = load_iris()\n",
    "data.target[data.target==0]=-1\n",
    "data.target[data.target==2]=1\n",
    "X_train,X_test,y_train,y_test = train_test_split(data.data,data.target,test_size=0.33,random_state=101)\n",
    "ad = AdaboostClassifier(n_estimators=2, learning_rate=1)\n",
    "ad.fit(X_train,y_train)\n",
    "y_pred = ad.predict(X_test)"
   ]
  },
  {
   "cell_type": "code",
   "execution_count": 203,
   "metadata": {},
   "outputs": [
    {
     "name": "stdout",
     "output_type": "stream",
     "text": [
      "[[15  0]\n",
      " [ 1 34]]\n",
      "\n",
      "\n",
      "              precision    recall  f1-score   support\n",
      "\n",
      "          -1       0.94      1.00      0.97        15\n",
      "           1       1.00      0.97      0.99        35\n",
      "\n",
      "    accuracy                           0.98        50\n",
      "   macro avg       0.97      0.99      0.98        50\n",
      "weighted avg       0.98      0.98      0.98        50\n",
      "\n"
     ]
    }
   ],
   "source": [
    "from sklearn.metrics import confusion_matrix, classification_report\n",
    "print(confusion_matrix(y_test,y_pred))\n",
    "print('\\n')\n",
    "print(classification_report(y_test,y_pred))"
   ]
  },
  {
   "cell_type": "code",
   "execution_count": 204,
   "metadata": {},
   "outputs": [
    {
     "data": {
      "text/plain": [
       "[DecisionTreeClassifier(ccp_alpha=0.0, class_weight=None, criterion='gini',\n",
       "                        max_depth=1, max_features=None, max_leaf_nodes=None,\n",
       "                        min_impurity_decrease=0.0, min_impurity_split=None,\n",
       "                        min_samples_leaf=1, min_samples_split=2,\n",
       "                        min_weight_fraction_leaf=0.0, presort='deprecated',\n",
       "                        random_state=924238476, splitter='best')]"
      ]
     },
     "execution_count": 204,
     "metadata": {},
     "output_type": "execute_result"
    }
   ],
   "source": [
    "from sklearn.ensemble import AdaBoostClassifier\n",
    "from sklearn.datasets import load_iris\n",
    "from sklearn.model_selection import train_test_split\n",
    "data = load_iris()\n",
    "data.target[data.target==0]=-1\n",
    "data.target[data.target==2]=1\n",
    "X_train,X_test,y_train,y_test = train_test_split(data.data,data.target,test_size=0.33,random_state=101)\n",
    "adb = AdaBoostClassifier(n_estimators=5,learning_rate=0.01)\n",
    "adb.fit(X_train,y_train)\n",
    "y_pred = adb.predict(X_test)\n",
    "adb.estimators_"
   ]
  },
  {
   "cell_type": "code",
   "execution_count": 205,
   "metadata": {},
   "outputs": [
    {
     "name": "stdout",
     "output_type": "stream",
     "text": [
      "[[15  0]\n",
      " [ 0 35]]\n",
      "\n",
      "\n",
      "              precision    recall  f1-score   support\n",
      "\n",
      "          -1       1.00      1.00      1.00        15\n",
      "           1       1.00      1.00      1.00        35\n",
      "\n",
      "    accuracy                           1.00        50\n",
      "   macro avg       1.00      1.00      1.00        50\n",
      "weighted avg       1.00      1.00      1.00        50\n",
      "\n"
     ]
    }
   ],
   "source": [
    "from sklearn.metrics import confusion_matrix, classification_report\n",
    "print(confusion_matrix(y_test,y_pred))\n",
    "print('\\n')\n",
    "print(classification_report(y_test,y_pred))"
   ]
  },
  {
   "cell_type": "code",
   "execution_count": null,
   "metadata": {},
   "outputs": [],
   "source": []
  }
 ],
 "metadata": {
  "kernelspec": {
   "display_name": "Python 3",
   "language": "python",
   "name": "python3"
  },
  "language_info": {
   "codemirror_mode": {
    "name": "ipython",
    "version": 3
   },
   "file_extension": ".py",
   "mimetype": "text/x-python",
   "name": "python",
   "nbconvert_exporter": "python",
   "pygments_lexer": "ipython3",
   "version": "3.7.7"
  }
 },
 "nbformat": 4,
 "nbformat_minor": 4
}
