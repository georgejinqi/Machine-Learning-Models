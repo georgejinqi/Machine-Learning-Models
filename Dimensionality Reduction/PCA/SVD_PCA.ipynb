{
 "cells": [
  {
   "cell_type": "code",
   "execution_count": 1,
   "metadata": {},
   "outputs": [],
   "source": [
    "import numpy as np"
   ]
  },
  {
   "cell_type": "code",
   "execution_count": 2,
   "metadata": {},
   "outputs": [],
   "source": [
    "class SVD_PCA:\n",
    "\n",
    "    def __init__(self, n_components):\n",
    "        self._mean = None\n",
    "        self._var = None\n",
    "        self._cov = None\n",
    "        self.n_components = n_components\n",
    "\n",
    "    def zero_centering(self):\n",
    "\n",
    "        # Calculate Sample means along columns\n",
    "        self._mean = np.mean(self.X, axis = 0, dtype=np.float64)\n",
    "        # Calculate sample variance\n",
    "        self._var = np.var(self.X, axis = 0, dtype=np.float64)\n",
    "        # Return normalized data\n",
    "        self.X = self.X-self._mean#/np.sqrt(self._var)\n",
    "\n",
    "    def covariance(self):\n",
    "\n",
    "        n_sample = self.X.shape[0]\n",
    "        S = 1/n_sample * np.dot(self.X.T , self.X)\n",
    "\n",
    "        return S\n",
    "\n",
    "    def score(self, X):\n",
    "        \n",
    "        n_sample = X.shape[0]\n",
    "        mean = np.mean(X, axis = 0, dtype=np.float64)\n",
    "        \n",
    "        X_0 = X - mean\n",
    "        \n",
    "        cov = 1/n_sample * np.dot(X_0.T , X_0)\n",
    "        U, s, V = np.linalg.svd(cov)\n",
    "        idx = np.argsort(s)[::-1]\n",
    "        s = s[idx]\n",
    "        \n",
    "        scores = {}\n",
    "        \n",
    "        for d, i in zip(idx,s):\n",
    "            scores[d] = \"{:.0%}\".format(i/sum(s))\n",
    "            \n",
    "        return scores\n",
    "    \n",
    "    def fit(self, X, y=None):\n",
    "\n",
    "        self.X = X\n",
    "\n",
    "        n_sample, n_feature = self.X.shape\n",
    "\n",
    "        self.zero_centering()\n",
    "        \n",
    "        cov = 1/n_sample * np.dot(self.X.T,self.X)\n",
    "        \n",
    "        U, s, V = np.linalg.svd(cov)\n",
    "        \n",
    "        # Find the idx of inverse order singular values\n",
    "        idx = np.argsort(s)[::-1]\n",
    "        \n",
    "        # Reorder singular values from high to low\n",
    "        s = s[idx]\n",
    "        \n",
    "        # Reorder V \n",
    "        V = V[idx]\n",
    "        \n",
    "        # Take first n_components eigenvectors\n",
    "        self.components = V[:self.n_components]\n",
    "\n",
    "\n",
    "    def transform(self, X, y = None):\n",
    "\n",
    "        X = X - self._mean\n",
    "    #         X = X/self._var\n",
    "        return np.dot(X, self.components.T)\n"
   ]
  },
  {
   "cell_type": "markdown",
   "metadata": {},
   "source": [
    "import test data"
   ]
  },
  {
   "cell_type": "code",
   "execution_count": 4,
   "metadata": {},
   "outputs": [],
   "source": [
    "from sklearn import datasets\n",
    "from sklearn.model_selection import train_test_split\n",
    "boston = datasets.load_boston()\n",
    "iris = datasets.load_iris()\n",
    "X_train, X_test, y_train, y_test = train_test_split(iris.data, iris.target, test_size=0.33, random_state=42)"
   ]
  },
  {
   "cell_type": "markdown",
   "metadata": {},
   "source": [
    "Calculate the score of each feature"
   ]
  },
  {
   "cell_type": "code",
   "execution_count": 5,
   "metadata": {},
   "outputs": [
    {
     "data": {
      "text/plain": [
       "{0: '92%', 1: '5%', 2: '2%', 3: '1%'}"
      ]
     },
     "execution_count": 5,
     "metadata": {},
     "output_type": "execute_result"
    }
   ],
   "source": [
    "pca=SVD_PCA(n_components=2)\n",
    "pca.fit(X_train)\n",
    "pca.score(X_train)"
   ]
  },
  {
   "cell_type": "markdown",
   "metadata": {},
   "source": [
    "We can keep two features without lossing a lot info"
   ]
  },
  {
   "cell_type": "markdown",
   "metadata": {},
   "source": [
    "import test data, and compare the result with sklearn"
   ]
  },
  {
   "cell_type": "code",
   "execution_count": 6,
   "metadata": {},
   "outputs": [],
   "source": [
    "pca=SVD_PCA(n_components=2)\n",
    "pca.fit(X_train)"
   ]
  },
  {
   "cell_type": "code",
   "execution_count": 7,
   "metadata": {},
   "outputs": [
    {
     "data": {
      "text/plain": [
       "PCA(copy=True, iterated_power='auto', n_components=2, random_state=None,\n",
       "    svd_solver='auto', tol=0.0, whiten=False)"
      ]
     },
     "execution_count": 7,
     "metadata": {},
     "output_type": "execute_result"
    }
   ],
   "source": [
    "from sklearn.decomposition import PCA\n",
    "sk_pca = PCA(n_components=2)\n",
    "sk_pca.fit(X_train)"
   ]
  },
  {
   "cell_type": "markdown",
   "metadata": {},
   "source": [
    "Compare covariance matrix"
   ]
  },
  {
   "cell_type": "code",
   "execution_count": 8,
   "metadata": {},
   "outputs": [
    {
     "data": {
      "text/plain": [
       "array([[ 0.690875, -0.021465,  1.24206 ,  0.489915],\n",
       "       [-0.021465,  0.174779, -0.266976, -0.095609],\n",
       "       [ 1.24206 , -0.266976,  2.984144,  1.230796],\n",
       "       [ 0.489915, -0.095609,  1.230796,  0.552739]])"
      ]
     },
     "execution_count": 8,
     "metadata": {},
     "output_type": "execute_result"
    }
   ],
   "source": [
    "pca.covariance()"
   ]
  },
  {
   "cell_type": "code",
   "execution_count": 9,
   "metadata": {},
   "outputs": [
    {
     "data": {
      "text/plain": [
       "array([[ 0.69208576, -0.01410431,  1.25037794,  0.51255054],\n",
       "       [-0.01410431,  0.16684255, -0.26574396, -0.11583759],\n",
       "       [ 1.25037794, -0.26574396,  3.02162976,  1.23067474],\n",
       "       [ 0.51255054, -0.11583759,  1.23067474,  0.56644899]])"
      ]
     },
     "execution_count": 9,
     "metadata": {},
     "output_type": "execute_result"
    }
   ],
   "source": [
    "sk_pca.get_covariance()"
   ]
  },
  {
   "cell_type": "markdown",
   "metadata": {},
   "source": [
    "Compare components"
   ]
  },
  {
   "cell_type": "code",
   "execution_count": 10,
   "metadata": {},
   "outputs": [
    {
     "data": {
      "text/plain": [
       "array([[-0.36873621,  0.06977632, -0.85630117, -0.35484246],\n",
       "       [-0.68187006, -0.69682861,  0.1867726 ,  0.12082672]])"
      ]
     },
     "execution_count": 10,
     "metadata": {},
     "output_type": "execute_result"
    }
   ],
   "source": [
    "pca.components"
   ]
  },
  {
   "cell_type": "code",
   "execution_count": 11,
   "metadata": {},
   "outputs": [
    {
     "data": {
      "text/plain": [
       "array([[ 0.36873621, -0.06977632,  0.85630117,  0.35484246],\n",
       "       [ 0.68187006,  0.69682861, -0.1867726 , -0.12082672]])"
      ]
     },
     "execution_count": 11,
     "metadata": {},
     "output_type": "execute_result"
    }
   ],
   "source": [
    "sk_pca.components_"
   ]
  },
  {
   "cell_type": "markdown",
   "metadata": {},
   "source": [
    "Compare transform new data"
   ]
  },
  {
   "cell_type": "code",
   "execution_count": 12,
   "metadata": {},
   "outputs": [
    {
     "data": {
      "text/plain": [
       "array([[-0.87004085,  0.11550914],\n",
       "       [ 2.23549168, -0.9776333 ],\n",
       "       [-3.74816334, -0.29230812],\n",
       "       [-0.7613821 ,  0.11290678],\n",
       "       [-1.28475481, -0.3189573 ],\n",
       "       [ 2.45397801, -0.51961269],\n",
       "       [ 0.22775193,  0.19339412],\n",
       "       [-1.8769441 , -0.43141706],\n",
       "       [-0.88397277,  0.4643128 ],\n",
       "       [-0.08135668,  0.24033494]])"
      ]
     },
     "execution_count": 12,
     "metadata": {},
     "output_type": "execute_result"
    }
   ],
   "source": [
    "pca.transform(X_test)[:10]"
   ]
  },
  {
   "cell_type": "code",
   "execution_count": 13,
   "metadata": {},
   "outputs": [
    {
     "data": {
      "text/plain": [
       "array([[ 0.87004085, -0.11550914],\n",
       "       [-2.23549168,  0.9776333 ],\n",
       "       [ 3.74816334,  0.29230812],\n",
       "       [ 0.7613821 , -0.11290678],\n",
       "       [ 1.28475481,  0.3189573 ],\n",
       "       [-2.45397801,  0.51961269],\n",
       "       [-0.22775193, -0.19339412],\n",
       "       [ 1.8769441 ,  0.43141706],\n",
       "       [ 0.88397277, -0.4643128 ],\n",
       "       [ 0.08135668, -0.24033494]])"
      ]
     },
     "execution_count": 13,
     "metadata": {},
     "output_type": "execute_result"
    }
   ],
   "source": [
    "sk_pca.transform(X_test)[:10]"
   ]
  },
  {
   "cell_type": "code",
   "execution_count": null,
   "metadata": {},
   "outputs": [],
   "source": []
  }
 ],
 "metadata": {
  "kernelspec": {
   "display_name": "Python 3",
   "language": "python",
   "name": "python3"
  },
  "language_info": {
   "codemirror_mode": {
    "name": "ipython",
    "version": 3
   },
   "file_extension": ".py",
   "mimetype": "text/x-python",
   "name": "python",
   "nbconvert_exporter": "python",
   "pygments_lexer": "ipython3",
   "version": "3.7.7"
  }
 },
 "nbformat": 4,
 "nbformat_minor": 4
}
