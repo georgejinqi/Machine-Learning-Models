{
 "cells": [
  {
   "cell_type": "code",
   "execution_count": 6,
   "metadata": {},
   "outputs": [],
   "source": [
    "import numpy as np"
   ]
  },
  {
   "cell_type": "code",
   "execution_count": 107,
   "metadata": {},
   "outputs": [],
   "source": [
    "class LogisticRegressionClassifier:\n",
    "    \n",
    "    def __init__(self, learning_rate = 0.1, tol = 1e-4, n_iter = 600, penalty =  'l2', C=0.1):\n",
    "        self.learning_rate = learning_rate\n",
    "        self.n_iter = n_iter\n",
    "        #‘l1’, ‘l2’, ‘elasticnet’, ‘none’\n",
    "        self.penalty = penalty\n",
    "        self.C = C\n",
    "        self.tol = tol\n",
    "    \n",
    "    def normalization(self, X):\n",
    "        \n",
    "        n_sample = X.shape[0]\n",
    "        mean = np.mean(X,axis=0,dtype=np.float64)\n",
    "        var = np.var(X,axis=0,dtype=np.float64)\n",
    "        return (X-mean)/(np.sqrt(var))\n",
    "        \n",
    "    def _sigmoid(self, Z):\n",
    "\n",
    "        return 1/(1+np.exp(-Z)) \n",
    "    \n",
    "    def cost(self, Z, y):\n",
    "        \n",
    "        n_sample = Z.shape[0]\n",
    "        \n",
    "        if self.penalty == 'l2':\n",
    "            return( -1/n_sample * self.C * np.sum((y * np.log(self._sigmoid(Z)+1e-8)) + ((1 - y) * np.log(1 - self._sigmoid(Z)+1e-8))) + 1/(2*n_sample)*np.sum(self.w**2))\n",
    "        elif self.penalty == None:\n",
    "            return( -1/n_sample * np.sum((y * np.log(self._sigmoid(Z)+1e-8)) + ((1 - y) * np.log(1 - self._sigmoid(Z)+1e-8))))\n",
    "    \n",
    "    def fit(self, X, y, normalization = True):\n",
    "        \"\"\"\n",
    "        Fit method for training data.\n",
    "        \n",
    "        Parameters:\n",
    "        -----------------------\n",
    "        X_train: {array-like}, shape = [n_samples, n_features]\n",
    "            Training matrix, where 'n_samples' is the number of samples \n",
    "            and 'n_features' is the number of features\n",
    "        y_train: {array-like}, shape = [n_samples]\n",
    "            Target labels\n",
    "        \n",
    "        Attributes:\n",
    "        -----------------------\n",
    "        d_record_: list\n",
    "            Record all distance.\n",
    "        error_rate_: list\n",
    "            Record all missclassification rate.  \n",
    "        \n",
    "        Returns:\n",
    "        ------------------------\n",
    "        self: object\n",
    "        \"\"\"\n",
    "        # Initilize a lst to record costs\n",
    "        self._costs = []\n",
    "    \n",
    "        #add a 1 in each row(intercept) into X\n",
    "        X = np.insert(X,0,1,axis=1)\n",
    "        n_sample, n_feature = X.shape\n",
    "        \n",
    "        # initialize w\n",
    "        self.w = np.ones(n_feature)\n",
    "        \n",
    "        \n",
    "        # find optimal w\n",
    "        for count in range(self.n_iter):\n",
    "            \n",
    "            Z = np.dot(X,self.w)\n",
    "            errors = self._sigmoid(Z)-y\n",
    "            self.cost(Z,y)\n",
    "            self._costs.append(self.cost(Z,y))\n",
    "\n",
    "            if self.cost(Z,y) <= self.tol:\n",
    "                print('stop at iteration {}'.format(count))\n",
    "                break\n",
    "\n",
    "            if self.penalty == 'l2':\n",
    "                gradient = 1/n_sample * (self.C*np.dot(X.T,errors) + (self.w))\n",
    "            elif self.penalty == 'l1':\n",
    "                pass\n",
    "            elif self.penalty == 'elasticnet':\n",
    "                pass\n",
    "            elif self.penalty == None:\n",
    "                gradient = 1/n_sample * np.dot(X.T,errors)\n",
    "                \n",
    "            self.w -= self.learning_rate * gradient\n",
    "            \n",
    "        \n",
    "    def predict(self, X):\n",
    "                \n",
    "        #add a 1 in each row(intercept) into X\n",
    "        X = np.insert(X,0,1,axis=1)\n",
    "        Z = np.dot(X,self.w)\n",
    "        return np.where(self._sigmoid(Z)>=0.5,1,0)\n",
    "    \n",
    "    def score(self, X, y):\n",
    "        return sum(self.predict(X) == y) / len(y)\n",
    "        \n",
    "        \n",
    "\n",
    "        "
   ]
  },
  {
   "cell_type": "code",
   "execution_count": 108,
   "metadata": {},
   "outputs": [
    {
     "name": "stderr",
     "output_type": "stream",
     "text": [
      "/Users/qijin/anaconda3/lib/python3.7/site-packages/ipykernel_launcher.py:20: RuntimeWarning: overflow encountered in exp\n"
     ]
    }
   ],
   "source": [
    "from sklearn import datasets\n",
    "from sklearn.model_selection import train_test_split\n",
    "\n",
    "cancer=datasets.load_breast_cancer()\n",
    "X=cancer.data\n",
    "y=cancer.target\n",
    "\n",
    "X_train,X_test,y_train,y_test=train_test_split(X,y,random_state=0)\n",
    "log = LogisticRegressionClassifier(penalty =  'l2')\n",
    "log.fit(X_train, y_train)\n",
    "y_pred=log.predict(X_test)"
   ]
  },
  {
   "cell_type": "code",
   "execution_count": 109,
   "metadata": {},
   "outputs": [
    {
     "data": {
      "text/plain": [
       "array([  1.17732671,   3.27368555,   4.82968239,  15.18087092,\n",
       "        10.83529951,   0.89159815,   0.86702209,   0.83859832,\n",
       "         0.85453578,   0.91164679,   0.88673545,   0.86710607,\n",
       "         1.14842633,   0.7804993 ,  -6.45703349,   0.87030468,\n",
       "         0.86935899,   0.86851537,   0.86912146,   0.87324422,\n",
       "         0.86922799,   3.32979258,   5.91626446,  15.08519746,\n",
       "       -12.3767242 ,   0.89828136,   0.85259822,   0.81509804,\n",
       "         0.85567989,   0.93091754,   0.88732989])"
      ]
     },
     "execution_count": 109,
     "metadata": {},
     "output_type": "execute_result"
    }
   ],
   "source": [
    "log.w"
   ]
  },
  {
   "cell_type": "code",
   "execution_count": 110,
   "metadata": {},
   "outputs": [
    {
     "name": "stdout",
     "output_type": "stream",
     "text": [
      "              precision    recall  f1-score   support\n",
      "\n",
      "           0       0.92      0.85      0.88        53\n",
      "           1       0.91      0.96      0.93        90\n",
      "\n",
      "    accuracy                           0.92       143\n",
      "   macro avg       0.92      0.90      0.91       143\n",
      "weighted avg       0.92      0.92      0.92       143\n",
      "\n"
     ]
    },
    {
     "data": {
      "text/plain": [
       "array([[45,  8],\n",
       "       [ 4, 86]])"
      ]
     },
     "execution_count": 110,
     "metadata": {},
     "output_type": "execute_result"
    }
   ],
   "source": [
    "from sklearn.metrics import classification_report,confusion_matrix\n",
    "print(classification_report(y_test,y_pred))\n",
    "confusion_matrix(y_test,y_pred)"
   ]
  },
  {
   "cell_type": "code",
   "execution_count": 111,
   "metadata": {},
   "outputs": [
    {
     "data": {
      "text/plain": [
       "[<matplotlib.lines.Line2D at 0x7fc3c5ccfbd0>]"
      ]
     },
     "execution_count": 111,
     "metadata": {},
     "output_type": "execute_result"
    },
    {
     "data": {
      "image/png": "[encoded data removed]",
      "text/plain": [
       "<Figure size 432x288 with 1 Axes>"
      ]
     },
     "metadata": {
      "needs_background": "light"
     },
     "output_type": "display_data"
    }
   ],
   "source": [
    "import matplotlib.pyplot as plt\n",
    "plt.plot(log._costs)"
   ]
  },
  {
   "cell_type": "code",
   "execution_count": 115,
   "metadata": {},
   "outputs": [
    {
     "name": "stderr",
     "output_type": "stream",
     "text": [
      "/Users/qijin/anaconda3/lib/python3.7/site-packages/sklearn/linear_model/_logistic.py:940: ConvergenceWarning: lbfgs failed to converge (status=1):\n",
      "STOP: TOTAL NO. of ITERATIONS REACHED LIMIT.\n",
      "\n",
      "Increase the number of iterations (max_iter) or scale the data as shown in:\n",
      "    https://scikit-learn.org/stable/modules/preprocessing.html\n",
      "Please also refer to the documentation for alternative solver options:\n",
      "    https://scikit-learn.org/stable/modules/linear_model.html#logistic-regression\n",
      "  extra_warning_msg=_LOGISTIC_SOLVER_CONVERGENCE_MSG)\n"
     ]
    }
   ],
   "source": [
    "from sklearn.linear_model import LogisticRegression\n",
    "lr = LogisticRegression()\n",
    "lr.fit(X_train, y_train)\n",
    "y_pred=lr.predict(X_test)"
   ]
  },
  {
   "cell_type": "code",
   "execution_count": 116,
   "metadata": {},
   "outputs": [
    {
     "name": "stdout",
     "output_type": "stream",
     "text": [
      "              precision    recall  f1-score   support\n",
      "\n",
      "           0       0.89      0.96      0.93        53\n",
      "           1       0.98      0.93      0.95        90\n",
      "\n",
      "    accuracy                           0.94       143\n",
      "   macro avg       0.94      0.95      0.94       143\n",
      "weighted avg       0.95      0.94      0.94       143\n",
      "\n"
     ]
    },
    {
     "data": {
      "text/plain": [
       "array([[51,  2],\n",
       "       [ 6, 84]])"
      ]
     },
     "execution_count": 116,
     "metadata": {},
     "output_type": "execute_result"
    }
   ],
   "source": [
    "print(classification_report(y_test,y_pred))\n",
    "confusion_matrix(y_test,y_pred)"
   ]
  },
  {
   "cell_type": "code",
   "execution_count": null,
   "metadata": {},
   "outputs": [],
   "source": []
  }
 ],
 "metadata": {
  "kernelspec": {
   "display_name": "Python 3",
   "language": "python",
   "name": "python3"
  },
  "language_info": {
   "codemirror_mode": {
    "name": "ipython",
    "version": 3
   },
   "file_extension": ".py",
   "mimetype": "text/x-python",
   "name": "python",
   "nbconvert_exporter": "python",
   "pygments_lexer": "ipython3",
   "version": "3.7.7"
  }
 },
 "nbformat": 4,
 "nbformat_minor": 4
}
