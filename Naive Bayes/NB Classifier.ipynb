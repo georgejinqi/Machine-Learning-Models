{
 "cells": [
  {
   "cell_type": "code",
   "execution_count": 1,
   "metadata": {},
   "outputs": [],
   "source": [
    "import pandas as pd\n",
    "import numpy as np\n",
    "import matplotlib.pyplot as plt\n",
    "import seaborn as sns\n",
    "import collections"
   ]
  },
  {
   "cell_type": "code",
   "execution_count": 2,
   "metadata": {},
   "outputs": [],
   "source": [
    "class NaiveBayesClassifier:\n",
    "    \n",
    "    def __init__(self, alpha = 1):\n",
    "        self.alpha = alpha\n",
    "        \n",
    "    def counts(self, feature):\n",
    "        \"\"\"\n",
    "        \n",
    "        \"\"\"\n",
    "        features = self.dataset[feature]\n",
    "        \n",
    "        m_sample = len(features)\n",
    "        \n",
    "        uniques = set(features)\n",
    "        \n",
    "        classCounts = {}\n",
    "        \n",
    "        for i in range(m_sample):\n",
    "            if features.iloc[i] not in classCounts:\n",
    "                classCounts[features.iloc[i]] = 0\n",
    "            classCounts[features.iloc[i]] += 1\n",
    "            \n",
    "        return classCounts,m_sample\n",
    "    \n",
    "    def likelihood(self, choosenClass, feature, choosenFeature):\n",
    "        \"\"\"\n",
    "        \n",
    "        \"\"\"\n",
    "\n",
    "        # Final column is the label column\n",
    "        labels = self.dataset.iloc[:,-1]\n",
    "        N = sum(labels == choosenClass)\n",
    "        \n",
    "        if feature not in self.dataset:\n",
    "            return (0 + self.alpha)/(N)\n",
    "        \n",
    "        features = self.dataset[feature]\n",
    "        V = len(set(features))    \n",
    "        counts = sum((labels == choosenClass) & (features == choosenFeature)) \n",
    "        likelihood = (counts + self.alpha)/(N + self.alpha * V)\n",
    "        \n",
    "        return likelihood\n",
    "        \n",
    "    def fit(self, dataset):\n",
    "        self.dataset = dataset\n",
    "        self.classes = set(self.dataset['class'])\n",
    "        \n",
    "    \n",
    "    def predict(self, test_dataset):\n",
    "\n",
    "        classCounts,m = self.counts('class')\n",
    "        classes = set(self.dataset['class'])\n",
    "        features = test_dataset.columns\n",
    "        \n",
    "        m_testing_samples,n = test_dataset.shape\n",
    "        \n",
    "        \n",
    "        prediction = []\n",
    "        best_guess = []\n",
    "        \n",
    "        # For each row in test_dataset\n",
    "        for i in range(m_testing_samples):\n",
    "            row = test_dataset.iloc[i]\n",
    "            pred = {}\n",
    "            # for each class of original dataset\n",
    "            for c in classes:\n",
    "                probability = classCounts[c]/m\n",
    "                for j in features:\n",
    "                    probability *= self.likelihood(c, j, row[j])\n",
    "                \n",
    "                \n",
    "                pred[c] = probability\n",
    "            best_pred = max(pred, key = lambda x: pred[x])   \n",
    "            prediction.append(pred)\n",
    "            best_guess.append(best_pred)\n",
    "         \n",
    "        return prediction,best_guess\n",
    "\n",
    "\n",
    "\n",
    "    "
   ]
  },
  {
   "cell_type": "code",
   "execution_count": 3,
   "metadata": {},
   "outputs": [],
   "source": [
    "nb = NaiveBayesClassifier()"
   ]
  },
  {
   "cell_type": "code",
   "execution_count": 4,
   "metadata": {},
   "outputs": [],
   "source": [
    "dataset = pd.DataFrame([\n",
    "    ['Green', 3, 'Apple'],\n",
    "    ['Yellow', 2,'Apple'],\n",
    "    ['Red', 1,'Grape'],\n",
    "    ['Red', 1,'Grape'],\n",
    "    ['Yellow', 4,'Lemon'],\n",
    "],\n",
    "columns=['color','size','class'])"
   ]
  },
  {
   "cell_type": "code",
   "execution_count": 5,
   "metadata": {},
   "outputs": [],
   "source": [
    "nb.fit(dataset)"
   ]
  },
  {
   "cell_type": "code",
   "execution_count": 6,
   "metadata": {},
   "outputs": [],
   "source": [
    "test = pd.DataFrame([\n",
    "    \n",
    "    ['Green',3],\n",
    "    ['Yellow',4],\n",
    "    ['Red',1]\n",
    "],\n",
    "columns=['color','size'])"
   ]
  },
  {
   "cell_type": "code",
   "execution_count": 7,
   "metadata": {},
   "outputs": [
    {
     "data": {
      "text/plain": [
       "([{'Apple': 0.053333333333333344,\n",
       "   'Grape': 0.013333333333333336,\n",
       "   'Lemon': 0.010000000000000002},\n",
       "  {'Apple': 0.026666666666666672,\n",
       "   'Grape': 0.013333333333333336,\n",
       "   'Lemon': 0.04000000000000001},\n",
       "  {'Apple': 0.013333333333333336,\n",
       "   'Grape': 0.12,\n",
       "   'Lemon': 0.010000000000000002}],\n",
       " ['Apple', 'Lemon', 'Grape'])"
      ]
     },
     "execution_count": 7,
     "metadata": {},
     "output_type": "execute_result"
    }
   ],
   "source": [
    "nb.predict(test)"
   ]
  },
  {
   "cell_type": "code",
   "execution_count": null,
   "metadata": {},
   "outputs": [],
   "source": []
  }
 ],
 "metadata": {
  "kernelspec": {
   "display_name": "Python 3",
   "language": "python",
   "name": "python3"
  },
  "language_info": {
   "codemirror_mode": {
    "name": "ipython",
    "version": 3
   },
   "file_extension": ".py",
   "mimetype": "text/x-python",
   "name": "python",
   "nbconvert_exporter": "python",
   "pygments_lexer": "ipython3",
   "version": "3.7.7"
  }
 },
 "nbformat": 4,
 "nbformat_minor": 4
}
