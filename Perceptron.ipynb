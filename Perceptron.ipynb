{
 "cells": [
  {
   "cell_type": "markdown",
   "metadata": {},
   "source": [
    "# Perceptron\n",
    "\n",
    "* Idea: Driven by mistakes\n",
    "\n",
    "* Model:\n",
    "\n",
    "\\begin{align}\n",
    "f(x)=sign(w^Tx+b),\\\\x{\\in}R^p,w{\\in}R^p\\\\\\\\\n",
    "sign(a) = \\left\\{\\begin{matrix}\n",
    "+1,a\\geqslant0\n",
    "\\\\ \n",
    "-1,a<0\n",
    "\\end{matrix}\\right.\n",
    "\\end{align}\n",
    "\n",
    "* Loss funtion:\n",
    "\n",
    "    1. Use the number of missclassification as loss\n",
    " \n",
    " \\begin{align}\n",
    "L(w)=\\sum_{i=1}^{N}I\\left \\{y_i(w^Tx_i+b)<0\\right \\}\\\\\n",
    "\\left.\\begin{matrix}\n",
    "w^Tx_i+b>0,y_i>0\n",
    "\\\\ \n",
    "w^Tx_i+b<0,y_i<0\n",
    "\\end{matrix}\\right\\}\\Rightarrow \\left\\{\\begin{matrix}\n",
    "w^Tx_i+b>0, True\n",
    "\\\\ \n",
    "w^Tx_i+b<0, False\n",
    "\\end{matrix}\\right.\n",
    "\\end{align}\n",
    "\n",
    "    **But in this case, the funtion is not derivative.**\n",
    "    \n",
    "    2. Use the distance as loss\n",
    "  \n",
    " \\begin{align}\n",
    "min:L(w)=\\sum_{x_i{\\in}D}^{}-y_i(w^Tx_i+b)\\\\D:\\left \\{ Miss\\ Classified\\ Points\\right \\}\\\\\n",
    "\\Delta _{w}L = \\sum_{}^{} -y_ix_i\\\\\n",
    "\\Delta _{b}L = \\sum_{}^{} -y_i\n",
    "\\end{align}\n",
    "\n",
    "* Algorithm: **SGD**\n",
    "\n",
    " \\begin{align}\n",
    "w^{(t+1)}=w^{(t)}-\\lambda\\Delta _{w}L \\\\\n",
    "=w^{(t)} + \\lambda\\sum_{}^{} y_ix_i\\\\\\\\\n",
    "b^{(t+1)}=b^{(t)}\\lambda\\Delta _{b}L \\\\\n",
    "=b^{(t)} + \\lambda\\sum_{}^{} y_i\n",
    "\\end{align}\n",
    "\n",
    "    b could be treated as w0"
   ]
  },
  {
   "cell_type": "code",
   "execution_count": 1150,
   "metadata": {},
   "outputs": [],
   "source": [
    "import numpy as np\n",
    "import pandas as pd\n",
    "import matplotlib.pyplot as plt\n",
    "import seaborn as sns\n",
    "import random\n",
    "from sklearn.model_selection import train_test_split\n",
    "%matplotlib inline"
   ]
  },
  {
   "cell_type": "code",
   "execution_count": 1233,
   "metadata": {},
   "outputs": [],
   "source": [
    "class Perceptron():\n",
    "    \"\"\"\n",
    "    Perceptron Classifier.\n",
    "    \n",
    "    Parameters\n",
    "    ------------------\n",
    "    learning_rate: float\n",
    "        Learning rate between 0.0 and 1.0\n",
    "    max_iter: int\n",
    "        Passes (epochs) over the training set\n",
    "    n_sgd: int (Not Using)\n",
    "        The number of gradient for stochastic gradient descent.\n",
    "    \n",
    "    Attributes\n",
    "    ------------------\n",
    "    \n",
    "    \n",
    "    \"\"\"\n",
    "    \n",
    "    def __init__(self,active_func = 'step',n_sgd=5,max_iter=100,learning_rate=0.01):\n",
    "\n",
    "        self.learning_rate= 0.01\n",
    "        self.max_iter = 100 \n",
    "        self.active_func = active_func\n",
    "        if self.active_func == 'sigmoid':\n",
    "            self.active_function = self._sigmoid_func\n",
    "        elif self.active_func == 'step':\n",
    "            self.active_function = self._unit_step_func\n",
    "        self.n_sgd = 10\n",
    "\n",
    "        \n",
    "    def fit(self,X_train,y_train,verbose= True):\n",
    "        \"\"\"\n",
    "        Fit method for training data.\n",
    "        \n",
    "        Parameters:\n",
    "        -----------------------\n",
    "        X_train: {array-like}, shape = [n_samples, n_features]\n",
    "            Training matrix, where 'n_samples' is the number of samples \n",
    "            and 'n_features' is the number of features\n",
    "        y_train: {array-like}, shape = [n_samples]\n",
    "            Target labels\n",
    "        \n",
    "        Attributes:\n",
    "        -----------------------\n",
    "        w_record_: list\n",
    "            Record all w.\n",
    "        error_rate_: list\n",
    "            Record all missclassification rate.\n",
    "        intercept_: float\n",
    "            Stores the intercept b.\n",
    "        coef_: list\n",
    "            Stores the w    \n",
    "        \n",
    "        Returns:\n",
    "        ------------------------\n",
    "        self: object\n",
    "        \n",
    "        \"\"\"\n",
    "        m, n = np.shape(X_train)\n",
    "        # Add a column with 1s to replace b.\n",
    "        X_train = np.column_stack((np.ones(m),X_train))\n",
    "        # Since y = {+1,-1}, convert all zeros to negative\n",
    "        \n",
    "        # Add a extra for b.\n",
    "        self.w = np.zeros(n+1)\n",
    "        \n",
    "        self.w_record_ = []\n",
    "        self.error_rate_ = []\n",
    "        \n",
    "        for _ in range(self.max_iter):\n",
    "            incorrect_points = np.where(np.multiply(y_train,self.sign(X_train).reshape(m,1)) <= 0)[0]\n",
    "            c = len(incorrect_points) / float(m)\n",
    "            self.error_rate_.append(c)\n",
    "            for i in range(m):\n",
    "                y_pred = self.sign(X_train[i])\n",
    "                #print(y_pred)\n",
    "                if y_train[i]*y_pred <= 0:\n",
    "                    self.w += (self.learning_rate * X_train[i]*y_train[i]).T\n",
    "                    self.w_record_.append(self.w.copy())\n",
    "                    \n",
    "        self.intercept_ = self.w[0]\n",
    "        self.coef_ = self.w[1:]\n",
    "        \n",
    "        #SGD\n",
    "#             y_pred = self.predict(X_train,self.w).reshape(m,1)\n",
    "\n",
    "#             incorrect_points = np.where(np.multiply(y_train,y_pred) <= 0)[0]\n",
    "            \n",
    "#             if len(incorrect_points) == 0:\n",
    "#                 break\n",
    "#             c = len(incorrect_points) / float(m)\n",
    "#             self.error_rate_.append(c)\n",
    "            \n",
    "# #             ls_i = np.random.choice(incorrect_points,self.n_sgd)\n",
    "# #             for i in ls_i:\n",
    "# #                 self.w += (self.learning_rate * X_train[i]*y_train[i]).T\n",
    "#             i = np.random.choice(incorrect_points)\n",
    "#             self.w += (self.learning_rate * X_train[i]*y_train[i]).T\n",
    "#             self.w_record_.append(self.w.copy())\n",
    "\n",
    "    \n",
    "    def sign(self,X):\n",
    "        \n",
    "        linear_output = np.dot(X,self.w)\n",
    "        prediction = self.active_function(linear_output)\n",
    "    \n",
    "        return prediction\n",
    "    \n",
    "    def predict(self,X):\n",
    "        m, n = np.shape(X)\n",
    "        # Add a column with 1s to replace b.\n",
    "        X = np.column_stack((np.ones(m),X))\n",
    "        linear_output = np.dot(X,self.w)\n",
    "        prediction = self.active_function(linear_output)\n",
    "        return prediction\n",
    "    \n",
    "    \n",
    "    def _unit_step_func(self, x):\n",
    "        return np.where(x>0 ,1,-1)\n",
    "    \n",
    "    def _sigmoid_func(self,z):\n",
    "        a = 1/(1+np.exp(-z))\n",
    "        return np.where(a>0.5,1,-1)\n",
    "        \n"
   ]
  },
  {
   "cell_type": "code",
   "execution_count": 1234,
   "metadata": {},
   "outputs": [
    {
     "name": "stderr",
     "output_type": "stream",
     "text": [
      "/Users/qijin/anaconda3/lib/python3.7/site-packages/ipykernel_launcher.py:5: SettingWithCopyWarning: \n",
      "A value is trying to be set on a copy of a slice from a DataFrame\n",
      "\n",
      "See the caveats in the documentation: https://pandas.pydata.org/pandas-docs/stable/user_guide/indexing.html#returning-a-view-versus-a-copy\n",
      "  \"\"\"\n"
     ]
    }
   ],
   "source": [
    "from sklearn import datasets\n",
    "df = pd.read_csv('ex.csv')\n",
    "\n",
    "df = df[df['target']!=2]\n",
    "df['target'][df['target']==0]=-1\n",
    "X_train,X_test,y_train,y_test = train_test_split(df.drop('target',axis=1),df['target'].to_frame(),test_size = 0.3,random_state=101)\n",
    "# feature = df.drop('target',axis=1)\n",
    "# target = df['target'].to_frame()\n",
    "X_train = X_train.to_numpy()\n",
    "y_train = y_train.to_numpy()\n",
    "X_test = X_test.to_numpy()\n",
    "y_test = y_test.to_numpy()\n"
   ]
  },
  {
   "cell_type": "code",
   "execution_count": 1235,
   "metadata": {},
   "outputs": [],
   "source": [
    "p = Perceptron()\n",
    "p.fit(X_train,y_train)"
   ]
  },
  {
   "cell_type": "code",
   "execution_count": 1236,
   "metadata": {},
   "outputs": [
    {
     "data": {
      "text/plain": [
       "[<matplotlib.lines.Line2D at 0x1a2a8c8990>]"
      ]
     },
     "execution_count": 1236,
     "metadata": {},
     "output_type": "execute_result"
    },
    {
     "data": {
      "image/png": "[encoded data removed]",
      "text/plain": [
       "<Figure size 432x288 with 1 Axes>"
      ]
     },
     "metadata": {
      "needs_background": "light"
     },
     "output_type": "display_data"
    }
   ],
   "source": [
    "plt.plot(p.error_rate_)"
   ]
  },
  {
   "cell_type": "code",
   "execution_count": 1237,
   "metadata": {
    "scrolled": true
   },
   "outputs": [
    {
     "data": {
      "image/png": "[encoded data removed]",
      "text/plain": [
       "<Figure size 432x288 with 1 Axes>"
      ]
     },
     "metadata": {
      "needs_background": "light"
     },
     "output_type": "display_data"
    }
   ],
   "source": [
    "\n",
    "\n",
    "x = np.linspace(1,4)\n",
    "y = (-p.w[0] - p.w[1]*x)/p.w[2]\n",
    "\n",
    "positive = df[df['target'].isin([1])]\n",
    "negative = df[df['target'].isin([-1])]\n",
    "\n",
    "fig, ax = plt.subplots()\n",
    "ax.scatter(positive['f1'], positive['f2'], s=50, marker='x', label='Positive')\n",
    "ax.scatter(negative['f1'], negative['f2'], s=50, marker='o', label='Negative')\n",
    "ax.plot(x,y)\n",
    "ax.legend()\n",
    "plt.show()\n",
    "\n",
    "\n"
   ]
  },
  {
   "cell_type": "code",
   "execution_count": 1238,
   "metadata": {},
   "outputs": [],
   "source": [
    "y_pred = p.predict(X_test)\n"
   ]
  },
  {
   "cell_type": "code",
   "execution_count": 1239,
   "metadata": {},
   "outputs": [],
   "source": [
    "from sklearn.metrics import confusion_matrix"
   ]
  },
  {
   "cell_type": "code",
   "execution_count": 1240,
   "metadata": {},
   "outputs": [
    {
     "data": {
      "text/plain": [
       "array([[9, 1],\n",
       "       [0, 5]])"
      ]
     },
     "execution_count": 1240,
     "metadata": {},
     "output_type": "execute_result"
    }
   ],
   "source": [
    "confusion_matrix(y_test,y_pred)"
   ]
  },
  {
   "cell_type": "code",
   "execution_count": null,
   "metadata": {},
   "outputs": [],
   "source": []
  }
 ],
 "metadata": {
  "kernelspec": {
   "display_name": "Python 3",
   "language": "python",
   "name": "python3"
  },
  "language_info": {
   "codemirror_mode": {
    "name": "ipython",
    "version": 3
   },
   "file_extension": ".py",
   "mimetype": "text/x-python",
   "name": "python",
   "nbconvert_exporter": "python",
   "pygments_lexer": "ipython3",
   "version": "3.7.6"
  }
 },
 "nbformat": 4,
 "nbformat_minor": 4
}
